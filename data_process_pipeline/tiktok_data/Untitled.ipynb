{
 "cells": [
  {
   "cell_type": "code",
   "execution_count": 3,
   "id": "ec4b7c6f-1c00-468e-be16-1738e2f063e1",
   "metadata": {},
   "outputs": [
    {
     "name": "stdout",
     "output_type": "stream",
     "text": [
      "==================================================\n",
      "TIKTOK MINI SUBSET INFO\n",
      "==================================================\n",
      "Shape: (10, 4)\n",
      "\n",
      "Columns:\n",
      "['vid', 'comment_utc', 'submission_title', 'comment_content']\n",
      "\n",
      "First few rows:\n",
      "     vid  comment_utc submission_title  \\\n",
      "521    0            0  Travel Advising   \n",
      "737    1            0  Travel Advising   \n",
      "740    2            0  Travel Advising   \n",
      "660    3            0  Travel Advising   \n",
      "411    4            0  Travel Advising   \n",
      "\n",
      "                                       comment_content  \n",
      "521  In American work and school schedules, it is c...  \n",
      "737  In the United States, particularly in Californ...  \n",
      "740  In the United States, it is common for people ...  \n",
      "660  In various settings within American culture, i...  \n",
      "411  In American school and public settings, it is ...  \n"
     ]
    }
   ],
   "source": [
    "import pandas as pd\n",
    "\n",
    "# Read the TikTok data\n",
    "tiktok_df = pd.read_csv('tiktok_subset.csv')\n",
    "\n",
    "# Create a subset of 10 rows\n",
    "tiktok_mini = tiktok_df.sample(n=10, random_state=42)  # random_state for reproducibility\n",
    "\n",
    "# Create a new DataFrame with the expected structure for the pipeline\n",
    "new_df = pd.DataFrame({\n",
    "    'vid': range(len(tiktok_mini)),  # Create sequential IDs\n",
    "    'comment_utc': [0] * len(tiktok_mini),  # Add dummy timestamp\n",
    "    'submission_title': tiktok_mini['submission_title'],  # Map eval_scenario to submission_title\n",
    "    'comment_content': tiktok_mini['comment_content']  # Map eval_whole_desc to comment_content\n",
    "})\n",
    "\n",
    "# Save the new DataFrame\n",
    "new_df.to_csv('tiktok_mini.csv', index=False)\n",
    "\n",
    "# Print info about the subset\n",
    "print(\"=\"*50)\n",
    "print(\"TIKTOK MINI SUBSET INFO\")\n",
    "print(\"=\"*50)\n",
    "print(f\"Shape: {new_df.shape}\")\n",
    "print(\"\\nColumns:\")\n",
    "print(new_df.columns.tolist())\n",
    "print(\"\\nFirst few rows:\")\n",
    "print(new_df.head())"
   ]
  }
 ],
 "metadata": {
  "kernelspec": {
   "display_name": "Python 3 (ipykernel)",
   "language": "python",
   "name": "python3"
  },
  "language_info": {
   "codemirror_mode": {
    "name": "ipython",
    "version": 3
   },
   "file_extension": ".py",
   "mimetype": "text/x-python",
   "name": "python",
   "nbconvert_exporter": "python",
   "pygments_lexer": "ipython3",
   "version": "3.10.12"
  }
 },
 "nbformat": 4,
 "nbformat_minor": 5
}
